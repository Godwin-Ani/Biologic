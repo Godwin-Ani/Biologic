{
 "cells": [
  {
   "cell_type": "markdown",
   "id": "a1c8114f",
   "metadata": {
    "papermill": {
     "duration": 0.019685,
     "end_time": "2022-05-19T16:04:38.609742",
     "exception": false,
     "start_time": "2022-05-19T16:04:38.590057",
     "status": "completed"
    },
    "tags": []
   },
   "source": [
    "**INTRODUCTION**\n",
    "\n",
    "\n",
    "Random forest is a machine learning algorithm used for supervised learning and it can solve both classification and regression problems. It is based on the concept of ensemble learning, a process of using multiple classifiers to solve a complex problem and using the average result to improve the model performance. Random forest uses many decision trees to solve a problem and uses the average result of the trees to predict an output.\n",
    "Thus, it has more accuracy than a single decision tree model.\n",
    "\n",
    "Since the problem i am solving is a supervised(it has input and output values) classification (the target is categorical data) problem. I would be using the 'RandomForestClassifier()' model from Scikit-learn.\n",
    "\n",
    "I will break the process of solving this problem into 4 steps.\n",
    "1)Importing the required libraries\n",
    "\n",
    "2) Loading the data\n",
    "\n",
    "3) Data analysis\n",
    "\n",
    "4) Model building"
   ]
  },
  {
   "cell_type": "code",
   "execution_count": 1,
   "id": "84126d94",
   "metadata": {
    "_cell_guid": "527318d4-f729-4fad-a782-24040899389d",
    "_uuid": "0b646353-f12d-4dbc-a43d-b514f8227f87",
    "execution": {
     "iopub.execute_input": "2022-05-19T16:04:38.649371Z",
     "iopub.status.busy": "2022-05-19T16:04:38.648953Z",
     "iopub.status.idle": "2022-05-19T16:04:40.238586Z",
     "shell.execute_reply": "2022-05-19T16:04:40.237847Z"
    },
    "papermill": {
     "duration": 1.611874,
     "end_time": "2022-05-19T16:04:40.241012",
     "exception": false,
     "start_time": "2022-05-19T16:04:38.629138",
     "status": "completed"
    },
    "tags": []
   },
   "outputs": [],
   "source": [
    "#Importing the required libraries\n",
    "import pandas as pd\n",
    "from sklearn.model_selection import train_test_split, GridSearchCV\n",
    "from sklearn.preprocessing import LabelEncoder\n",
    "from sklearn.ensemble import RandomForestClassifier\n",
    "from sklearn.metrics import accuracy_score, f1_score,precision_score, recall_score, confusion_matrix ,ConfusionMatrixDisplay\n",
    "import matplotlib.pyplot as plt\n",
    "import seaborn as sns\n",
    "sns.set(style='ticks', palette = 'deep', rc = {'axes.grid':True, 'axes.facecolor':'#283747'})\n",
    "%matplotlib inline"
   ]
  },
  {
   "cell_type": "code",
   "execution_count": 2,
   "id": "347cec14",
   "metadata": {
    "_cell_guid": "527318d4-f729-4fad-a782-24040899389d",
    "_uuid": "0b646353-f12d-4dbc-a43d-b514f8227f87",
    "collapsed": false,
    "execution": {
     "iopub.execute_input": "2022-05-19T16:04:40.279568Z",
     "iopub.status.busy": "2022-05-19T16:04:40.279276Z",
     "iopub.status.idle": "2022-05-19T16:04:40.316327Z",
     "shell.execute_reply": "2022-05-19T16:04:40.315543Z"
    },
    "jupyter": {
     "outputs_hidden": false
    },
    "papermill": {
     "duration": 0.059818,
     "end_time": "2022-05-19T16:04:40.319444",
     "exception": false,
     "start_time": "2022-05-19T16:04:40.259626",
     "status": "completed"
    },
    "tags": []
   },
   "outputs": [
    {
     "data": {
      "text/html": [
       "<div>\n",
       "<style scoped>\n",
       "    .dataframe tbody tr th:only-of-type {\n",
       "        vertical-align: middle;\n",
       "    }\n",
       "\n",
       "    .dataframe tbody tr th {\n",
       "        vertical-align: top;\n",
       "    }\n",
       "\n",
       "    .dataframe thead th {\n",
       "        text-align: right;\n",
       "    }\n",
       "</style>\n",
       "<table border=\"1\" class=\"dataframe\">\n",
       "  <thead>\n",
       "    <tr style=\"text-align: right;\">\n",
       "      <th></th>\n",
       "      <th>GENDER</th>\n",
       "      <th>AGE</th>\n",
       "      <th>SMOKING</th>\n",
       "      <th>YELLOW_FINGERS</th>\n",
       "      <th>ANXIETY</th>\n",
       "      <th>PEER_PRESSURE</th>\n",
       "      <th>CHRONIC DISEASE</th>\n",
       "      <th>FATIGUE</th>\n",
       "      <th>ALLERGY</th>\n",
       "      <th>WHEEZING</th>\n",
       "      <th>ALCOHOL CONSUMING</th>\n",
       "      <th>COUGHING</th>\n",
       "      <th>SHORTNESS OF BREATH</th>\n",
       "      <th>SWALLOWING DIFFICULTY</th>\n",
       "      <th>CHEST PAIN</th>\n",
       "      <th>LUNG_CANCER</th>\n",
       "    </tr>\n",
       "  </thead>\n",
       "  <tbody>\n",
       "    <tr>\n",
       "      <th>0</th>\n",
       "      <td>M</td>\n",
       "      <td>69</td>\n",
       "      <td>1</td>\n",
       "      <td>2</td>\n",
       "      <td>2</td>\n",
       "      <td>1</td>\n",
       "      <td>1</td>\n",
       "      <td>2</td>\n",
       "      <td>1</td>\n",
       "      <td>2</td>\n",
       "      <td>2</td>\n",
       "      <td>2</td>\n",
       "      <td>2</td>\n",
       "      <td>2</td>\n",
       "      <td>2</td>\n",
       "      <td>YES</td>\n",
       "    </tr>\n",
       "    <tr>\n",
       "      <th>1</th>\n",
       "      <td>M</td>\n",
       "      <td>74</td>\n",
       "      <td>2</td>\n",
       "      <td>1</td>\n",
       "      <td>1</td>\n",
       "      <td>1</td>\n",
       "      <td>2</td>\n",
       "      <td>2</td>\n",
       "      <td>2</td>\n",
       "      <td>1</td>\n",
       "      <td>1</td>\n",
       "      <td>1</td>\n",
       "      <td>2</td>\n",
       "      <td>2</td>\n",
       "      <td>2</td>\n",
       "      <td>YES</td>\n",
       "    </tr>\n",
       "    <tr>\n",
       "      <th>2</th>\n",
       "      <td>F</td>\n",
       "      <td>59</td>\n",
       "      <td>1</td>\n",
       "      <td>1</td>\n",
       "      <td>1</td>\n",
       "      <td>2</td>\n",
       "      <td>1</td>\n",
       "      <td>2</td>\n",
       "      <td>1</td>\n",
       "      <td>2</td>\n",
       "      <td>1</td>\n",
       "      <td>2</td>\n",
       "      <td>2</td>\n",
       "      <td>1</td>\n",
       "      <td>2</td>\n",
       "      <td>NO</td>\n",
       "    </tr>\n",
       "    <tr>\n",
       "      <th>3</th>\n",
       "      <td>M</td>\n",
       "      <td>63</td>\n",
       "      <td>2</td>\n",
       "      <td>2</td>\n",
       "      <td>2</td>\n",
       "      <td>1</td>\n",
       "      <td>1</td>\n",
       "      <td>1</td>\n",
       "      <td>1</td>\n",
       "      <td>1</td>\n",
       "      <td>2</td>\n",
       "      <td>1</td>\n",
       "      <td>1</td>\n",
       "      <td>2</td>\n",
       "      <td>2</td>\n",
       "      <td>NO</td>\n",
       "    </tr>\n",
       "    <tr>\n",
       "      <th>4</th>\n",
       "      <td>F</td>\n",
       "      <td>63</td>\n",
       "      <td>1</td>\n",
       "      <td>2</td>\n",
       "      <td>1</td>\n",
       "      <td>1</td>\n",
       "      <td>1</td>\n",
       "      <td>1</td>\n",
       "      <td>1</td>\n",
       "      <td>2</td>\n",
       "      <td>1</td>\n",
       "      <td>2</td>\n",
       "      <td>2</td>\n",
       "      <td>1</td>\n",
       "      <td>1</td>\n",
       "      <td>NO</td>\n",
       "    </tr>\n",
       "  </tbody>\n",
       "</table>\n",
       "</div>"
      ],
      "text/plain": [
       "  GENDER  AGE  SMOKING  YELLOW_FINGERS  ANXIETY  PEER_PRESSURE  \\\n",
       "0      M   69        1               2        2              1   \n",
       "1      M   74        2               1        1              1   \n",
       "2      F   59        1               1        1              2   \n",
       "3      M   63        2               2        2              1   \n",
       "4      F   63        1               2        1              1   \n",
       "\n",
       "   CHRONIC DISEASE  FATIGUE   ALLERGY   WHEEZING  ALCOHOL CONSUMING  COUGHING  \\\n",
       "0                1         2         1         2                  2         2   \n",
       "1                2         2         2         1                  1         1   \n",
       "2                1         2         1         2                  1         2   \n",
       "3                1         1         1         1                  2         1   \n",
       "4                1         1         1         2                  1         2   \n",
       "\n",
       "   SHORTNESS OF BREATH  SWALLOWING DIFFICULTY  CHEST PAIN LUNG_CANCER  \n",
       "0                    2                      2           2         YES  \n",
       "1                    2                      2           2         YES  \n",
       "2                    2                      1           2          NO  \n",
       "3                    1                      2           2          NO  \n",
       "4                    2                      1           1          NO  "
      ]
     },
     "execution_count": 2,
     "metadata": {},
     "output_type": "execute_result"
    }
   ],
   "source": [
    "#loading the data\n",
    "data = pd.read_csv('/kaggle/input/lung-cancer/survey lung cancer.csv')\n",
    "data.head()"
   ]
  },
  {
   "cell_type": "code",
   "execution_count": 3,
   "id": "dae8efcb",
   "metadata": {
    "execution": {
     "iopub.execute_input": "2022-05-19T16:04:40.360039Z",
     "iopub.status.busy": "2022-05-19T16:04:40.359237Z",
     "iopub.status.idle": "2022-05-19T16:04:40.381098Z",
     "shell.execute_reply": "2022-05-19T16:04:40.380536Z"
    },
    "papermill": {
     "duration": 0.044443,
     "end_time": "2022-05-19T16:04:40.383412",
     "exception": false,
     "start_time": "2022-05-19T16:04:40.338969",
     "status": "completed"
    },
    "tags": []
   },
   "outputs": [
    {
     "name": "stdout",
     "output_type": "stream",
     "text": [
      "<class 'pandas.core.frame.DataFrame'>\n",
      "RangeIndex: 309 entries, 0 to 308\n",
      "Data columns (total 16 columns):\n",
      " #   Column                 Non-Null Count  Dtype \n",
      "---  ------                 --------------  ----- \n",
      " 0   GENDER                 309 non-null    object\n",
      " 1   AGE                    309 non-null    int64 \n",
      " 2   SMOKING                309 non-null    int64 \n",
      " 3   YELLOW_FINGERS         309 non-null    int64 \n",
      " 4   ANXIETY                309 non-null    int64 \n",
      " 5   PEER_PRESSURE          309 non-null    int64 \n",
      " 6   CHRONIC DISEASE        309 non-null    int64 \n",
      " 7   FATIGUE                309 non-null    int64 \n",
      " 8   ALLERGY                309 non-null    int64 \n",
      " 9   WHEEZING               309 non-null    int64 \n",
      " 10  ALCOHOL CONSUMING      309 non-null    int64 \n",
      " 11  COUGHING               309 non-null    int64 \n",
      " 12  SHORTNESS OF BREATH    309 non-null    int64 \n",
      " 13  SWALLOWING DIFFICULTY  309 non-null    int64 \n",
      " 14  CHEST PAIN             309 non-null    int64 \n",
      " 15  LUNG_CANCER            309 non-null    object\n",
      "dtypes: int64(14), object(2)\n",
      "memory usage: 38.8+ KB\n"
     ]
    }
   ],
   "source": [
    "data.info()"
   ]
  },
  {
   "cell_type": "markdown",
   "id": "95af65da",
   "metadata": {
    "papermill": {
     "duration": 0.019031,
     "end_time": "2022-05-19T16:04:40.422947",
     "exception": false,
     "start_time": "2022-05-19T16:04:40.403916",
     "status": "completed"
    },
    "tags": []
   },
   "source": [
    "**The Dataset Description**\n",
    "\n",
    "This data contain  samples that have been grouped into **yes** (lung cancer positive) and **no**( lung cancer negative).\n",
    "\n",
    "It contains 16 columns:\n",
    "* GENDER: The gender of the subjects, M or F\n",
    "* AGE: The age of the subjects\n",
    "* SMOKING: 2 if they smoke and 1 if they don't.\n",
    "* YELLOW_FINGERS: 2 if they have yellow fingers and 1 if they don't.\n",
    "* ANXIETY: 2 if they have are suffering from anxiety and 1 if they're not.\n",
    "* PEER_PRESSURE: 2 if they are influenced by peer pressure and 1 if they're not.\n",
    "* CHRONIC DISEASE: 2 if they have a chronic disease and 1 if they're don't.\n",
    "* FATIGUE: 2 if they're easily fatigued and 1 if they're not\n",
    "* ALLERGY: 2 if they have an allergy and 1 if they don't.\n",
    "* WHEEZING: 2 if they wheeze and 1 if they don't.\n",
    "* ALCOHOL CONSUMING: 2 if they consume alcohol and 1 if they don't.\n",
    "* COUGHING: 2 if they cough regularly and1 if they don't.\n",
    "* SHORTNESS OF BREATHE: 2 if they experience shortness of breathe and 1 if they dont.\n",
    "* SWALLOWING DIFFICULTY: 2 if they have problem swallowing and 1 if they don't.\n",
    "* CHEST PAIN: 2 if they have chest pain and 1 if they don't.\n",
    "* LUNG_CANCER: YES if they are positive with lung cancer and NO if they're not. This is the column we are trying to predict. It is called the target."
   ]
  },
  {
   "cell_type": "markdown",
   "id": "e024ff8f",
   "metadata": {
    "papermill": {
     "duration": 0.02023,
     "end_time": "2022-05-19T16:04:40.462368",
     "exception": false,
     "start_time": "2022-05-19T16:04:40.442138",
     "status": "completed"
    },
    "tags": []
   },
   "source": [
    "**Symptoms of lung cancer**\n",
    "\n",
    "The columns include both symptoms and non-symptoms of cancer.\n",
    "\n",
    "For this problem, i would use just the symptoms as my features to predict the clinical outcome of lung cancer.\n",
    "\n",
    "The 8 symptoms in this dataset are are:\n",
    "* Yellow fingers\n",
    "* Anxiety\n",
    "* Fatigue\n",
    "* Wheezing\n",
    "* Coughing\n",
    "* Shortness of breathe\n",
    "* Swallowing difficulty\n",
    "* Chest pain\n",
    "\n",
    "The symptoms will be my **X** while the target column would be my **y**."
   ]
  },
  {
   "cell_type": "code",
   "execution_count": 4,
   "id": "bd852262",
   "metadata": {
    "_cell_guid": "527318d4-f729-4fad-a782-24040899389d",
    "_uuid": "0b646353-f12d-4dbc-a43d-b514f8227f87",
    "collapsed": false,
    "execution": {
     "iopub.execute_input": "2022-05-19T16:04:40.507848Z",
     "iopub.status.busy": "2022-05-19T16:04:40.507274Z",
     "iopub.status.idle": "2022-05-19T16:04:40.525988Z",
     "shell.execute_reply": "2022-05-19T16:04:40.525023Z"
    },
    "jupyter": {
     "outputs_hidden": false
    },
    "papermill": {
     "duration": 0.045903,
     "end_time": "2022-05-19T16:04:40.528778",
     "exception": false,
     "start_time": "2022-05-19T16:04:40.482875",
     "status": "completed"
    },
    "tags": []
   },
   "outputs": [
    {
     "data": {
      "text/html": [
       "<div>\n",
       "<style scoped>\n",
       "    .dataframe tbody tr th:only-of-type {\n",
       "        vertical-align: middle;\n",
       "    }\n",
       "\n",
       "    .dataframe tbody tr th {\n",
       "        vertical-align: top;\n",
       "    }\n",
       "\n",
       "    .dataframe thead th {\n",
       "        text-align: right;\n",
       "    }\n",
       "</style>\n",
       "<table border=\"1\" class=\"dataframe\">\n",
       "  <thead>\n",
       "    <tr style=\"text-align: right;\">\n",
       "      <th></th>\n",
       "      <th>YELLOW_FINGERS</th>\n",
       "      <th>ANXIETY</th>\n",
       "      <th>FATIGUE</th>\n",
       "      <th>WHEEZING</th>\n",
       "      <th>COUGHING</th>\n",
       "      <th>SHORTNESS OF BREATH</th>\n",
       "      <th>SWALLOWING DIFFICULTY</th>\n",
       "      <th>CHEST PAIN</th>\n",
       "    </tr>\n",
       "  </thead>\n",
       "  <tbody>\n",
       "    <tr>\n",
       "      <th>0</th>\n",
       "      <td>2</td>\n",
       "      <td>2</td>\n",
       "      <td>2</td>\n",
       "      <td>2</td>\n",
       "      <td>2</td>\n",
       "      <td>2</td>\n",
       "      <td>2</td>\n",
       "      <td>2</td>\n",
       "    </tr>\n",
       "    <tr>\n",
       "      <th>1</th>\n",
       "      <td>1</td>\n",
       "      <td>1</td>\n",
       "      <td>2</td>\n",
       "      <td>1</td>\n",
       "      <td>1</td>\n",
       "      <td>2</td>\n",
       "      <td>2</td>\n",
       "      <td>2</td>\n",
       "    </tr>\n",
       "    <tr>\n",
       "      <th>2</th>\n",
       "      <td>1</td>\n",
       "      <td>1</td>\n",
       "      <td>2</td>\n",
       "      <td>2</td>\n",
       "      <td>2</td>\n",
       "      <td>2</td>\n",
       "      <td>1</td>\n",
       "      <td>2</td>\n",
       "    </tr>\n",
       "    <tr>\n",
       "      <th>3</th>\n",
       "      <td>2</td>\n",
       "      <td>2</td>\n",
       "      <td>1</td>\n",
       "      <td>1</td>\n",
       "      <td>1</td>\n",
       "      <td>1</td>\n",
       "      <td>2</td>\n",
       "      <td>2</td>\n",
       "    </tr>\n",
       "    <tr>\n",
       "      <th>4</th>\n",
       "      <td>2</td>\n",
       "      <td>1</td>\n",
       "      <td>1</td>\n",
       "      <td>2</td>\n",
       "      <td>2</td>\n",
       "      <td>2</td>\n",
       "      <td>1</td>\n",
       "      <td>1</td>\n",
       "    </tr>\n",
       "  </tbody>\n",
       "</table>\n",
       "</div>"
      ],
      "text/plain": [
       "   YELLOW_FINGERS  ANXIETY  FATIGUE   WHEEZING  COUGHING  SHORTNESS OF BREATH  \\\n",
       "0               2        2         2         2         2                    2   \n",
       "1               1        1         2         1         1                    2   \n",
       "2               1        1         2         2         2                    2   \n",
       "3               2        2         1         1         1                    1   \n",
       "4               2        1         1         2         2                    2   \n",
       "\n",
       "   SWALLOWING DIFFICULTY  CHEST PAIN  \n",
       "0                      2           2  \n",
       "1                      2           2  \n",
       "2                      1           2  \n",
       "3                      2           2  \n",
       "4                      1           1  "
      ]
     },
     "execution_count": 4,
     "metadata": {},
     "output_type": "execute_result"
    }
   ],
   "source": [
    "data_new = data.drop(['GENDER','AGE', 'SMOKING', 'ALCOHOL CONSUMING', 'CHRONIC DISEASE', 'PEER_PRESSURE', 'ALLERGY '], axis = 1)\n",
    "symptoms = [ 'YELLOW_FINGERS', 'ANXIETY', 'FATIGUE ',  'WHEEZING', 'COUGHING', 'SHORTNESS OF BREATH', 'SWALLOWING DIFFICULTY', 'CHEST PAIN']\n",
    "X = data_new[symptoms]\n",
    "y = data_new.LUNG_CANCER\n",
    "X.head()\n",
    " "
   ]
  },
  {
   "cell_type": "code",
   "execution_count": 5,
   "id": "f4063c10",
   "metadata": {
    "execution": {
     "iopub.execute_input": "2022-05-19T16:04:40.575909Z",
     "iopub.status.busy": "2022-05-19T16:04:40.575624Z",
     "iopub.status.idle": "2022-05-19T16:04:40.581770Z",
     "shell.execute_reply": "2022-05-19T16:04:40.580967Z"
    },
    "papermill": {
     "duration": 0.032711,
     "end_time": "2022-05-19T16:04:40.583503",
     "exception": false,
     "start_time": "2022-05-19T16:04:40.550792",
     "status": "completed"
    },
    "tags": []
   },
   "outputs": [
    {
     "data": {
      "text/plain": [
       "0    YES\n",
       "1    YES\n",
       "2     NO\n",
       "3     NO\n",
       "4     NO\n",
       "Name: LUNG_CANCER, dtype: object"
      ]
     },
     "execution_count": 5,
     "metadata": {},
     "output_type": "execute_result"
    }
   ],
   "source": [
    "y.head()"
   ]
  },
  {
   "cell_type": "markdown",
   "id": "ca037126",
   "metadata": {
    "papermill": {
     "duration": 0.020036,
     "end_time": "2022-05-19T16:04:40.623902",
     "exception": false,
     "start_time": "2022-05-19T16:04:40.603866",
     "status": "completed"
    },
    "tags": []
   },
   "source": [
    "**Splitting the data into training and testing set**\n",
    "\n",
    "Before checking and correcting any errors in the data like missing values or categorical values. I will split it first to avoid data leakage.\n",
    "\n",
    "I will use sklearn's **train_test_split()** to split the data.\n",
    "\n",
    "The data is split into **80/20**. 80% of the data would be used for training the model to predict the status of lung cancer from symptoms while the remaining 20% of the data would be used for testing the model accuracy.\n",
    "\n",
    "I will use a random_state of **42** so i can always get the same split everytime i run the code. I will also stratify the split with **y** so the training set would be identical to the full set of the data."
   ]
  },
  {
   "cell_type": "code",
   "execution_count": 6,
   "id": "36acbb6b",
   "metadata": {
    "execution": {
     "iopub.execute_input": "2022-05-19T16:04:40.667122Z",
     "iopub.status.busy": "2022-05-19T16:04:40.666599Z",
     "iopub.status.idle": "2022-05-19T16:04:40.675519Z",
     "shell.execute_reply": "2022-05-19T16:04:40.674572Z"
    },
    "papermill": {
     "duration": 0.032615,
     "end_time": "2022-05-19T16:04:40.677775",
     "exception": false,
     "start_time": "2022-05-19T16:04:40.645160",
     "status": "completed"
    },
    "tags": []
   },
   "outputs": [],
   "source": [
    "X_train, X_test, y_train, y_test = train_test_split( X, y, random_state = 42, stratify = y)"
   ]
  },
  {
   "cell_type": "markdown",
   "id": "6b2fe0c4",
   "metadata": {
    "papermill": {
     "duration": 0.019867,
     "end_time": "2022-05-19T16:04:40.718044",
     "exception": false,
     "start_time": "2022-05-19T16:04:40.698177",
     "status": "completed"
    },
    "tags": []
   },
   "source": [
    "I will check for missing entries now."
   ]
  },
  {
   "cell_type": "code",
   "execution_count": 7,
   "id": "72775ebd",
   "metadata": {
    "execution": {
     "iopub.execute_input": "2022-05-19T16:04:40.759746Z",
     "iopub.status.busy": "2022-05-19T16:04:40.759434Z",
     "iopub.status.idle": "2022-05-19T16:04:40.766318Z",
     "shell.execute_reply": "2022-05-19T16:04:40.765738Z"
    },
    "papermill": {
     "duration": 0.029976,
     "end_time": "2022-05-19T16:04:40.768091",
     "exception": false,
     "start_time": "2022-05-19T16:04:40.738115",
     "status": "completed"
    },
    "tags": []
   },
   "outputs": [
    {
     "data": {
      "text/plain": [
       "YELLOW_FINGERS           0\n",
       "ANXIETY                  0\n",
       "FATIGUE                  0\n",
       "WHEEZING                 0\n",
       "COUGHING                 0\n",
       "SHORTNESS OF BREATH      0\n",
       "SWALLOWING DIFFICULTY    0\n",
       "CHEST PAIN               0\n",
       "dtype: int64"
      ]
     },
     "execution_count": 7,
     "metadata": {},
     "output_type": "execute_result"
    }
   ],
   "source": [
    "X_train.isnull().sum()"
   ]
  },
  {
   "cell_type": "markdown",
   "id": "f21efb28",
   "metadata": {
    "papermill": {
     "duration": 0.02032,
     "end_time": "2022-05-19T16:04:40.809020",
     "exception": false,
     "start_time": "2022-05-19T16:04:40.788700",
     "status": "completed"
    },
    "tags": []
   },
   "source": [
    "No missing entries were detected.\n",
    "\n",
    "I would check for categorical data now."
   ]
  },
  {
   "cell_type": "code",
   "execution_count": 8,
   "id": "4622a3f2",
   "metadata": {
    "execution": {
     "iopub.execute_input": "2022-05-19T16:04:40.851062Z",
     "iopub.status.busy": "2022-05-19T16:04:40.850808Z",
     "iopub.status.idle": "2022-05-19T16:04:40.861120Z",
     "shell.execute_reply": "2022-05-19T16:04:40.860535Z"
    },
    "papermill": {
     "duration": 0.034012,
     "end_time": "2022-05-19T16:04:40.863353",
     "exception": false,
     "start_time": "2022-05-19T16:04:40.829341",
     "status": "completed"
    },
    "tags": []
   },
   "outputs": [
    {
     "name": "stdout",
     "output_type": "stream",
     "text": [
      "<class 'pandas.core.frame.DataFrame'>\n",
      "RangeIndex: 309 entries, 0 to 308\n",
      "Data columns (total 8 columns):\n",
      " #   Column                 Non-Null Count  Dtype\n",
      "---  ------                 --------------  -----\n",
      " 0   YELLOW_FINGERS         309 non-null    int64\n",
      " 1   ANXIETY                309 non-null    int64\n",
      " 2   FATIGUE                309 non-null    int64\n",
      " 3   WHEEZING               309 non-null    int64\n",
      " 4   COUGHING               309 non-null    int64\n",
      " 5   SHORTNESS OF BREATH    309 non-null    int64\n",
      " 6   SWALLOWING DIFFICULTY  309 non-null    int64\n",
      " 7   CHEST PAIN             309 non-null    int64\n",
      "dtypes: int64(8)\n",
      "memory usage: 19.4 KB\n"
     ]
    }
   ],
   "source": [
    "X.info()"
   ]
  },
  {
   "cell_type": "markdown",
   "id": "dc8fd3e9",
   "metadata": {
    "papermill": {
     "duration": 0.020607,
     "end_time": "2022-05-19T16:04:40.905010",
     "exception": false,
     "start_time": "2022-05-19T16:04:40.884403",
     "status": "completed"
    },
    "tags": []
   },
   "source": [
    "All the features of X are numerical values.\n",
    "\n",
    "I will proceed to convert the target column into a numeric value using Sklearn's **LabelEncoder**.\n",
    "\n",
    "I would fit and transform the training set but i would just transform the test set without fitting it to avoid leakage."
   ]
  },
  {
   "cell_type": "code",
   "execution_count": 9,
   "id": "5deffaa8",
   "metadata": {
    "_cell_guid": "527318d4-f729-4fad-a782-24040899389d",
    "_uuid": "0b646353-f12d-4dbc-a43d-b514f8227f87",
    "collapsed": false,
    "execution": {
     "iopub.execute_input": "2022-05-19T16:04:40.948193Z",
     "iopub.status.busy": "2022-05-19T16:04:40.947793Z",
     "iopub.status.idle": "2022-05-19T16:04:40.951514Z",
     "shell.execute_reply": "2022-05-19T16:04:40.950906Z"
    },
    "jupyter": {
     "outputs_hidden": false
    },
    "papermill": {
     "duration": 0.027384,
     "end_time": "2022-05-19T16:04:40.953144",
     "exception": false,
     "start_time": "2022-05-19T16:04:40.925760",
     "status": "completed"
    },
    "tags": []
   },
   "outputs": [],
   "source": [
    "le = LabelEncoder()\n",
    "y_train= le.fit_transform(y_train)\n",
    "y_test= le.transform(y_test)"
   ]
  },
  {
   "cell_type": "markdown",
   "id": "1e406624",
   "metadata": {
    "papermill": {
     "duration": 0.020924,
     "end_time": "2022-05-19T16:04:40.994814",
     "exception": false,
     "start_time": "2022-05-19T16:04:40.973890",
     "status": "completed"
    },
    "tags": []
   },
   "source": [
    "Evaluating the distribution of data in the **feature columns**."
   ]
  },
  {
   "cell_type": "code",
   "execution_count": 10,
   "id": "645503f6",
   "metadata": {
    "_cell_guid": "527318d4-f729-4fad-a782-24040899389d",
    "_uuid": "0b646353-f12d-4dbc-a43d-b514f8227f87",
    "collapsed": false,
    "execution": {
     "iopub.execute_input": "2022-05-19T16:04:41.038139Z",
     "iopub.status.busy": "2022-05-19T16:04:41.037707Z",
     "iopub.status.idle": "2022-05-19T16:04:41.830622Z",
     "shell.execute_reply": "2022-05-19T16:04:41.829796Z"
    },
    "jupyter": {
     "outputs_hidden": false
    },
    "papermill": {
     "duration": 0.816871,
     "end_time": "2022-05-19T16:04:41.832473",
     "exception": false,
     "start_time": "2022-05-19T16:04:41.015602",
     "status": "completed"
    },
    "tags": []
   },
   "outputs": [
    {
     "data": {
      "image/png": "[encoded data removed]",
      "text/plain": [
       "<Figure size 432x288 with 1 Axes>"
      ]
     },
     "metadata": {
      "needs_background": "light"
     },
     "output_type": "display_data"
    },
    {
     "data": {
      "image/png": "[encoded data removed]",
      "text/plain": [
       "<Figure size 432x288 with 1 Axes>"
      ]
     },
     "metadata": {
      "needs_background": "light"
     },
     "output_type": "display_data"
    },
    {
     "data": {
      "image/png": "[encoded data removed]",
      "text/plain": [
       "<Figure size 432x288 with 1 Axes>"
      ]
     },
     "metadata": {
      "needs_background": "light"
     },
     "output_type": "display_data"
    },
    {
     "data": {
      "image/png": "[encoded data removed]",
      "text/plain": [
       "<Figure size 432x288 with 1 Axes>"
      ]
     },
     "metadata": {
      "needs_background": "light"
     },
     "output_type": "display_data"
    },
    {
     "data": {
      "image/png": "[encoded data removed]",
      "text/plain": [
       "<Figure size 432x288 with 1 Axes>"
      ]
     },
     "metadata": {
      "needs_background": "light"
     },
     "output_type": "display_data"
    },
    {
     "data": {
      "image/png": "[encoded data removed]",
      "text/plain": [
       "<Figure size 432x288 with 1 Axes>"
      ]
     },
     "metadata": {
      "needs_background": "light"
     },
     "output_type": "display_data"
    },
    {
     "data": {
      "image/png": "[encoded data removed]",
      "text/plain": [
       "<Figure size 432x288 with 1 Axes>"
      ]
     },
     "metadata": {
      "needs_background": "light"
     },
     "output_type": "display_data"
    },
    {
     "data": {
      "image/png": "[encoded data removed]",
      "text/plain": [
       "<Figure size 432x288 with 1 Axes>"
      ]
     },
     "metadata": {
      "needs_background": "light"
     },
     "output_type": "display_data"
    }
   ],
   "source": [
    "key = {2: 'yes', 1: 'no'}\n",
    "for sys in symptoms:\n",
    "\tsns.countplot(x = X_train[sys].replace(key))    \n",
    "\tplt.show()"
   ]
  },
  {
   "cell_type": "markdown",
   "id": "5bedde78",
   "metadata": {
    "papermill": {
     "duration": 0.027184,
     "end_time": "2022-05-19T16:04:41.886870",
     "exception": false,
     "start_time": "2022-05-19T16:04:41.859686",
     "status": "completed"
    },
    "tags": []
   },
   "source": [
    "Evaluating the distribution of data in the **target column**."
   ]
  },
  {
   "cell_type": "code",
   "execution_count": 11,
   "id": "794bd811",
   "metadata": {
    "execution": {
     "iopub.execute_input": "2022-05-19T16:04:41.940168Z",
     "iopub.status.busy": "2022-05-19T16:04:41.939916Z",
     "iopub.status.idle": "2022-05-19T16:04:42.058526Z",
     "shell.execute_reply": "2022-05-19T16:04:42.057811Z"
    },
    "papermill": {
     "duration": 0.147389,
     "end_time": "2022-05-19T16:04:42.060380",
     "exception": false,
     "start_time": "2022-05-19T16:04:41.912991",
     "status": "completed"
    },
    "tags": []
   },
   "outputs": [
    {
     "data": {
      "text/plain": [
       "<AxesSubplot:ylabel='count'>"
      ]
     },
     "execution_count": 11,
     "metadata": {},
     "output_type": "execute_result"
    },
    {
     "data": {
      "image/png": "[encoded data removed]",
      "text/plain": [
       "<Figure size 432x288 with 1 Axes>"
      ]
     },
     "metadata": {},
     "output_type": "display_data"
    }
   ],
   "source": [
    "sns.set(style = 'darkgrid',palette = 'bright')\n",
    "sns.countplot(x = pd.Series(y_train).replace([0,1],['No','Yes']))"
   ]
  },
  {
   "cell_type": "markdown",
   "id": "f9742788",
   "metadata": {
    "papermill": {
     "duration": 0.026758,
     "end_time": "2022-05-19T16:04:42.115530",
     "exception": false,
     "start_time": "2022-05-19T16:04:42.088772",
     "status": "completed"
    },
    "tags": []
   },
   "source": [
    "**Building the random forest model**\n",
    "\n",
    "Fitting the model with the data, predicting with the model and calculating the accuracy score of the model."
   ]
  },
  {
   "cell_type": "code",
   "execution_count": 12,
   "id": "be5b0031",
   "metadata": {
    "execution": {
     "iopub.execute_input": "2022-05-19T16:04:42.173055Z",
     "iopub.status.busy": "2022-05-19T16:04:42.172558Z",
     "iopub.status.idle": "2022-05-19T16:04:42.316335Z",
     "shell.execute_reply": "2022-05-19T16:04:42.315292Z"
    },
    "papermill": {
     "duration": 0.176051,
     "end_time": "2022-05-19T16:04:42.318444",
     "exception": false,
     "start_time": "2022-05-19T16:04:42.142393",
     "status": "completed"
    },
    "tags": []
   },
   "outputs": [
    {
     "name": "stdout",
     "output_type": "stream",
     "text": [
      "The accuracy score of this Random Forest Classifier model is: 92.3%\n"
     ]
    }
   ],
   "source": [
    "model =  RandomForestClassifier(n_estimators = 100, random_state = 42)\n",
    "model.fit(X_train, y_train)\n",
    "y_pred = model.predict(X_test)\n",
    "print('The accuracy score of this Random Forest Classifier model is: {0:.1f}%'.format(100*accuracy_score(y_test, y_pred)))"
   ]
  },
  {
   "cell_type": "code",
   "execution_count": 13,
   "id": "d47e4ab7",
   "metadata": {
    "_cell_guid": "527318d4-f729-4fad-a782-24040899389d",
    "_uuid": "0b646353-f12d-4dbc-a43d-b514f8227f87",
    "collapsed": false,
    "execution": {
     "iopub.execute_input": "2022-05-19T16:04:42.376084Z",
     "iopub.status.busy": "2022-05-19T16:04:42.375314Z",
     "iopub.status.idle": "2022-05-19T16:04:42.539352Z",
     "shell.execute_reply": "2022-05-19T16:04:42.538420Z"
    },
    "jupyter": {
     "outputs_hidden": false
    },
    "papermill": {
     "duration": 0.19556,
     "end_time": "2022-05-19T16:04:42.542557",
     "exception": false,
     "start_time": "2022-05-19T16:04:42.346997",
     "status": "completed"
    },
    "tags": []
   },
   "outputs": [
    {
     "data": {
      "image/png": "[encoded data removed]",
      "text/plain": [
       "<Figure size 432x288 with 2 Axes>"
      ]
     },
     "metadata": {},
     "output_type": "display_data"
    }
   ],
   "source": [
    "sns.set(rc = {'axes.grid':False})\n",
    "ConfusionMatrixDisplay.from_predictions(y_test, y_pred)\n",
    "plt.title('Confusion matrix of the model')\n",
    "plt.show()"
   ]
  },
  {
   "cell_type": "markdown",
   "id": "3f1f4608",
   "metadata": {
    "papermill": {
     "duration": 0.028032,
     "end_time": "2022-05-19T16:04:42.608884",
     "exception": false,
     "start_time": "2022-05-19T16:04:42.580852",
     "status": "completed"
    },
    "tags": []
   },
   "source": [
    "The confusion matrix is a table that describes the performance of a classification model. This model was able to correctly predict positive cases 64 times out of 68 times and correctly predict negative cases 8 times out of 10. This shows a high precision of the model."
   ]
  },
  {
   "cell_type": "code",
   "execution_count": 14,
   "id": "02958b0b",
   "metadata": {
    "execution": {
     "iopub.execute_input": "2022-05-19T16:04:42.668098Z",
     "iopub.status.busy": "2022-05-19T16:04:42.667626Z",
     "iopub.status.idle": "2022-05-19T16:04:42.676410Z",
     "shell.execute_reply": "2022-05-19T16:04:42.675307Z"
    },
    "papermill": {
     "duration": 0.040989,
     "end_time": "2022-05-19T16:04:42.678687",
     "exception": false,
     "start_time": "2022-05-19T16:04:42.637698",
     "status": "completed"
    },
    "tags": []
   },
   "outputs": [
    {
     "name": "stdout",
     "output_type": "stream",
     "text": [
      "The precision of this model is 97.0%\n",
      "The recall score of this model is 94.1%\n",
      "The harmonic mean of the precision score and recall score is: 0.955223880597015\n"
     ]
    }
   ],
   "source": [
    "print('The precision of this model is {0:.1f}%'.format(100* precision_score(y_test,y_pred)))\n",
    "\n",
    "print ('The recall score of this model is {0:.1f}%'.format(100*recall_score(y_test, y_pred)))\n",
    "\n",
    "print('The harmonic mean of the precision score and recall score is:', f1_score(y_test,y_pred))"
   ]
  },
  {
   "cell_type": "markdown",
   "id": "7794c130",
   "metadata": {
    "papermill": {
     "duration": 0.028209,
     "end_time": "2022-05-19T16:04:42.735222",
     "exception": false,
     "start_time": "2022-05-19T16:04:42.707013",
     "status": "completed"
    },
    "tags": []
   },
   "source": [
    "These plot shows that a person who experiences shortness of breath, who coughs and wheezes often, has yellow fingers and is easily fatigued, has a high probability of being positive for lung cancer."
   ]
  },
  {
   "cell_type": "code",
   "execution_count": 15,
   "id": "084a5de7",
   "metadata": {
    "_cell_guid": "527318d4-f729-4fad-a782-24040899389d",
    "_uuid": "0b646353-f12d-4dbc-a43d-b514f8227f87",
    "collapsed": false,
    "execution": {
     "iopub.execute_input": "2022-05-19T16:04:42.796987Z",
     "iopub.status.busy": "2022-05-19T16:04:42.796700Z",
     "iopub.status.idle": "2022-05-19T16:04:42.819219Z",
     "shell.execute_reply": "2022-05-19T16:04:42.817979Z"
    },
    "jupyter": {
     "outputs_hidden": false
    },
    "papermill": {
     "duration": 0.054766,
     "end_time": "2022-05-19T16:04:42.821435",
     "exception": false,
     "start_time": "2022-05-19T16:04:42.766669",
     "status": "completed"
    },
    "tags": []
   },
   "outputs": [
    {
     "name": "stdout",
     "output_type": "stream",
     "text": [
      "                Symptoms  importance\n",
      "0         YELLOW_FINGERS    0.152723\n",
      "4               COUGHING    0.150052\n",
      "7             CHEST PAIN    0.133490\n",
      "2               FATIGUE     0.124247\n",
      "3               WHEEZING    0.122971\n",
      "1                ANXIETY    0.120900\n",
      "5    SHORTNESS OF BREATH    0.106120\n",
      "6  SWALLOWING DIFFICULTY    0.089497\n"
     ]
    }
   ],
   "source": [
    "#features importance\n",
    "Symptoms_importance = pd.DataFrame(  {\"Symptoms\": list(X.columns), \"importance\": model.feature_importances_}).sort_values(\"importance\", ascending=False)\n",
    "# Display\n",
    "print(Symptoms_importance)"
   ]
  },
  {
   "cell_type": "code",
   "execution_count": 16,
   "id": "700c99f6",
   "metadata": {
    "_cell_guid": "527318d4-f729-4fad-a782-24040899389d",
    "_uuid": "0b646353-f12d-4dbc-a43d-b514f8227f87",
    "collapsed": false,
    "execution": {
     "iopub.execute_input": "2022-05-19T16:04:42.880454Z",
     "iopub.status.busy": "2022-05-19T16:04:42.880171Z",
     "iopub.status.idle": "2022-05-19T16:04:43.257248Z",
     "shell.execute_reply": "2022-05-19T16:04:43.256441Z"
    },
    "jupyter": {
     "outputs_hidden": false
    },
    "papermill": {
     "duration": 0.409102,
     "end_time": "2022-05-19T16:04:43.259459",
     "exception": false,
     "start_time": "2022-05-19T16:04:42.850357",
     "status": "completed"
    },
    "tags": []
   },
   "outputs": [
    {
     "data": {
      "image/png": "[encoded data removed]",
      "text/plain": [
       "<Figure size 432x288 with 1 Axes>"
      ]
     },
     "metadata": {},
     "output_type": "display_data"
    }
   ],
   "source": [
    "# Creating a bar plot\n",
    "sns.set(palette = 'bright',rc ={'axes.grid':True})\n",
    "sns.barplot(x=Symptoms_importance.Symptoms, y=Symptoms_importance.importance)\n",
    "plt.xlabel(\"Symptoms \")\n",
    "plt.ylabel(\"Importance score\")\n",
    "plt.title(\"The symptoms and their importance in building this model\")\n",
    "plt.xticks( rotation=45, horizontalalignment=\"right\", fontweight=\"light\", fontsize=\"x-large\")\n",
    "plt.show()"
   ]
  },
  {
   "cell_type": "code",
   "execution_count": null,
   "id": "c4941c67",
   "metadata": {
    "papermill": {
     "duration": 0.031425,
     "end_time": "2022-05-19T16:04:43.321882",
     "exception": false,
     "start_time": "2022-05-19T16:04:43.290457",
     "status": "completed"
    },
    "tags": []
   },
   "outputs": [],
   "source": []
  }
 ],
 "metadata": {
  "kernelspec": {
   "display_name": "Python 3",
   "language": "python",
   "name": "python3"
  },
  "language_info": {
   "codemirror_mode": {
    "name": "ipython",
    "version": 3
   },
   "file_extension": ".py",
   "mimetype": "text/x-python",
   "name": "python",
   "nbconvert_exporter": "python",
   "pygments_lexer": "ipython3",
   "version": "3.7.12"
  },
  "papermill": {
   "default_parameters": {},
   "duration": 13.890833,
   "end_time": "2022-05-19T16:04:44.074077",
   "environment_variables": {},
   "exception": null,
   "input_path": "__notebook__.ipynb",
   "output_path": "__notebook__.ipynb",
   "parameters": {},
   "start_time": "2022-05-19T16:04:30.183244",
   "version": "2.3.4"
  }
 },
 "nbformat": 4,
 "nbformat_minor": 5
}
