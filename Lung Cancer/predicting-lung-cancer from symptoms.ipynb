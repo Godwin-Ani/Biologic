{
 "cells": [
  {
   "cell_type": "code",
   "execution_count": 1,
   "metadata": {
    "execution": {
     "iopub.execute_input": "2022-05-17T10:56:42.968102Z",
     "iopub.status.busy": "2022-05-17T10:56:42.967687Z",
     "iopub.status.idle": "2022-05-17T10:56:42.972910Z",
     "shell.execute_reply": "2022-05-17T10:56:42.972148Z",
     "shell.execute_reply.started": "2022-05-17T10:56:42.968070Z"
    }
   },
   "outputs": [],
   "source": [
    "import pandas as pd\n",
    "from sklearn.model_selection import train_test_split\n",
    "from sklearn.metrics import accuracy_score, confusion_matrix, ConfusionMatrixDisplay\n",
    "from sklearn.ensemble import RandomForestClassifier\n",
    "from sklearn.preprocessing import LabelEncoder\n",
    "import matplotlib.pyplot as plt\n",
    "%matplotlib inline\n",
    "import seaborn as sns\n"
   ]
  },
  {
   "cell_type": "markdown",
   "metadata": {},
   "source": [
    "Loading the dataset."
   ]
  },
  {
   "cell_type": "code",
   "execution_count": 2,
   "metadata": {
    "execution": {
     "iopub.execute_input": "2022-05-17T10:56:42.993581Z",
     "iopub.status.busy": "2022-05-17T10:56:42.992821Z",
     "iopub.status.idle": "2022-05-17T10:56:43.008186Z",
     "shell.execute_reply": "2022-05-17T10:56:43.007310Z",
     "shell.execute_reply.started": "2022-05-17T10:56:42.993544Z"
    }
   },
   "outputs": [],
   "source": [
    "data = pd.read_csv('survey lung cancer.csv')"
   ]
  },
  {
   "cell_type": "markdown",
   "metadata": {},
   "source": [
    "Inspecting the data and checking for missing or categorical values"
   ]
  },
  {
   "cell_type": "code",
   "execution_count": 3,
   "metadata": {
    "execution": {
     "iopub.execute_input": "2022-05-17T10:56:43.019412Z",
     "iopub.status.busy": "2022-05-17T10:56:43.018814Z",
     "iopub.status.idle": "2022-05-17T10:56:43.035590Z",
     "shell.execute_reply": "2022-05-17T10:56:43.034814Z",
     "shell.execute_reply.started": "2022-05-17T10:56:43.019378Z"
    }
   },
   "outputs": [
    {
     "data": {
      "text/html": [
       "<div>\n",
       "<style scoped>\n",
       "    .dataframe tbody tr th:only-of-type {\n",
       "        vertical-align: middle;\n",
       "    }\n",
       "\n",
       "    .dataframe tbody tr th {\n",
       "        vertical-align: top;\n",
       "    }\n",
       "\n",
       "    .dataframe thead th {\n",
       "        text-align: right;\n",
       "    }\n",
       "</style>\n",
       "<table border=\"1\" class=\"dataframe\">\n",
       "  <thead>\n",
       "    <tr style=\"text-align: right;\">\n",
       "      <th></th>\n",
       "      <th>GENDER</th>\n",
       "      <th>AGE</th>\n",
       "      <th>SMOKING</th>\n",
       "      <th>YELLOW_FINGERS</th>\n",
       "      <th>ANXIETY</th>\n",
       "      <th>PEER_PRESSURE</th>\n",
       "      <th>CHRONIC DISEASE</th>\n",
       "      <th>FATIGUE</th>\n",
       "      <th>ALLERGY</th>\n",
       "      <th>WHEEZING</th>\n",
       "      <th>ALCOHOL CONSUMING</th>\n",
       "      <th>COUGHING</th>\n",
       "      <th>SHORTNESS OF BREATH</th>\n",
       "      <th>SWALLOWING DIFFICULTY</th>\n",
       "      <th>CHEST PAIN</th>\n",
       "      <th>LUNG_CANCER</th>\n",
       "    </tr>\n",
       "  </thead>\n",
       "  <tbody>\n",
       "    <tr>\n",
       "      <th>0</th>\n",
       "      <td>M</td>\n",
       "      <td>69</td>\n",
       "      <td>1</td>\n",
       "      <td>2</td>\n",
       "      <td>2</td>\n",
       "      <td>1</td>\n",
       "      <td>1</td>\n",
       "      <td>2</td>\n",
       "      <td>1</td>\n",
       "      <td>2</td>\n",
       "      <td>2</td>\n",
       "      <td>2</td>\n",
       "      <td>2</td>\n",
       "      <td>2</td>\n",
       "      <td>2</td>\n",
       "      <td>YES</td>\n",
       "    </tr>\n",
       "    <tr>\n",
       "      <th>1</th>\n",
       "      <td>M</td>\n",
       "      <td>74</td>\n",
       "      <td>2</td>\n",
       "      <td>1</td>\n",
       "      <td>1</td>\n",
       "      <td>1</td>\n",
       "      <td>2</td>\n",
       "      <td>2</td>\n",
       "      <td>2</td>\n",
       "      <td>1</td>\n",
       "      <td>1</td>\n",
       "      <td>1</td>\n",
       "      <td>2</td>\n",
       "      <td>2</td>\n",
       "      <td>2</td>\n",
       "      <td>YES</td>\n",
       "    </tr>\n",
       "    <tr>\n",
       "      <th>2</th>\n",
       "      <td>F</td>\n",
       "      <td>59</td>\n",
       "      <td>1</td>\n",
       "      <td>1</td>\n",
       "      <td>1</td>\n",
       "      <td>2</td>\n",
       "      <td>1</td>\n",
       "      <td>2</td>\n",
       "      <td>1</td>\n",
       "      <td>2</td>\n",
       "      <td>1</td>\n",
       "      <td>2</td>\n",
       "      <td>2</td>\n",
       "      <td>1</td>\n",
       "      <td>2</td>\n",
       "      <td>NO</td>\n",
       "    </tr>\n",
       "    <tr>\n",
       "      <th>3</th>\n",
       "      <td>M</td>\n",
       "      <td>63</td>\n",
       "      <td>2</td>\n",
       "      <td>2</td>\n",
       "      <td>2</td>\n",
       "      <td>1</td>\n",
       "      <td>1</td>\n",
       "      <td>1</td>\n",
       "      <td>1</td>\n",
       "      <td>1</td>\n",
       "      <td>2</td>\n",
       "      <td>1</td>\n",
       "      <td>1</td>\n",
       "      <td>2</td>\n",
       "      <td>2</td>\n",
       "      <td>NO</td>\n",
       "    </tr>\n",
       "    <tr>\n",
       "      <th>4</th>\n",
       "      <td>F</td>\n",
       "      <td>63</td>\n",
       "      <td>1</td>\n",
       "      <td>2</td>\n",
       "      <td>1</td>\n",
       "      <td>1</td>\n",
       "      <td>1</td>\n",
       "      <td>1</td>\n",
       "      <td>1</td>\n",
       "      <td>2</td>\n",
       "      <td>1</td>\n",
       "      <td>2</td>\n",
       "      <td>2</td>\n",
       "      <td>1</td>\n",
       "      <td>1</td>\n",
       "      <td>NO</td>\n",
       "    </tr>\n",
       "  </tbody>\n",
       "</table>\n",
       "</div>"
      ],
      "text/plain": [
       "  GENDER  AGE  SMOKING  YELLOW_FINGERS  ANXIETY  PEER_PRESSURE  \\\n",
       "0      M   69        1               2        2              1   \n",
       "1      M   74        2               1        1              1   \n",
       "2      F   59        1               1        1              2   \n",
       "3      M   63        2               2        2              1   \n",
       "4      F   63        1               2        1              1   \n",
       "\n",
       "   CHRONIC DISEASE  FATIGUE   ALLERGY   WHEEZING  ALCOHOL CONSUMING  COUGHING  \\\n",
       "0                1         2         1         2                  2         2   \n",
       "1                2         2         2         1                  1         1   \n",
       "2                1         2         1         2                  1         2   \n",
       "3                1         1         1         1                  2         1   \n",
       "4                1         1         1         2                  1         2   \n",
       "\n",
       "   SHORTNESS OF BREATH  SWALLOWING DIFFICULTY  CHEST PAIN LUNG_CANCER  \n",
       "0                    2                      2           2         YES  \n",
       "1                    2                      2           2         YES  \n",
       "2                    2                      1           2          NO  \n",
       "3                    1                      2           2          NO  \n",
       "4                    2                      1           1          NO  "
      ]
     },
     "execution_count": 3,
     "metadata": {},
     "output_type": "execute_result"
    }
   ],
   "source": [
    "data.head()"
   ]
  },
  {
   "cell_type": "code",
   "execution_count": 4,
   "metadata": {
    "execution": {
     "iopub.execute_input": "2022-05-17T10:56:43.050091Z",
     "iopub.status.busy": "2022-05-17T10:56:43.049660Z",
     "iopub.status.idle": "2022-05-17T10:56:43.059064Z",
     "shell.execute_reply": "2022-05-17T10:56:43.057837Z",
     "shell.execute_reply.started": "2022-05-17T10:56:43.050058Z"
    }
   },
   "outputs": [
    {
     "data": {
      "text/plain": [
       "GENDER                   0\n",
       "AGE                      0\n",
       "SMOKING                  0\n",
       "YELLOW_FINGERS           0\n",
       "ANXIETY                  0\n",
       "PEER_PRESSURE            0\n",
       "CHRONIC DISEASE          0\n",
       "FATIGUE                  0\n",
       "ALLERGY                  0\n",
       "WHEEZING                 0\n",
       "ALCOHOL CONSUMING        0\n",
       "COUGHING                 0\n",
       "SHORTNESS OF BREATH      0\n",
       "SWALLOWING DIFFICULTY    0\n",
       "CHEST PAIN               0\n",
       "LUNG_CANCER              0\n",
       "dtype: int64"
      ]
     },
     "execution_count": 4,
     "metadata": {},
     "output_type": "execute_result"
    }
   ],
   "source": [
    "data.isnull().sum()"
   ]
  },
  {
   "cell_type": "code",
   "execution_count": 5,
   "metadata": {
    "execution": {
     "iopub.execute_input": "2022-05-17T10:56:43.073757Z",
     "iopub.status.busy": "2022-05-17T10:56:43.073106Z",
     "iopub.status.idle": "2022-05-17T10:56:43.083470Z",
     "shell.execute_reply": "2022-05-17T10:56:43.082477Z",
     "shell.execute_reply.started": "2022-05-17T10:56:43.073721Z"
    }
   },
   "outputs": [
    {
     "data": {
      "text/plain": [
       "Index(['GENDER', 'LUNG_CANCER'], dtype='object')"
      ]
     },
     "execution_count": 5,
     "metadata": {},
     "output_type": "execute_result"
    }
   ],
   "source": [
    "data.select_dtypes(include =['object']).columns"
   ]
  },
  {
   "cell_type": "markdown",
   "metadata": {},
   "source": [
    "The columns with categorical values would need to be transformed."
   ]
  },
  {
   "cell_type": "markdown",
   "metadata": {},
   "source": [
    "The data would be splitted before the transformation to avoid leakage and only the symptoms of lung cancer would be used to build the model."
   ]
  },
  {
   "cell_type": "code",
   "execution_count": 6,
   "metadata": {
    "execution": {
     "iopub.execute_input": "2022-05-17T10:56:43.098307Z",
     "iopub.status.busy": "2022-05-17T10:56:43.097691Z",
     "iopub.status.idle": "2022-05-17T10:56:43.104801Z",
     "shell.execute_reply": "2022-05-17T10:56:43.103811Z",
     "shell.execute_reply.started": "2022-05-17T10:56:43.098267Z"
    }
   },
   "outputs": [
    {
     "data": {
      "text/plain": [
       "Index(['GENDER', 'AGE', 'SMOKING', 'YELLOW_FINGERS', 'ANXIETY',\n",
       "       'PEER_PRESSURE', 'CHRONIC DISEASE', 'FATIGUE ', 'ALLERGY ', 'WHEEZING',\n",
       "       'ALCOHOL CONSUMING', 'COUGHING', 'SHORTNESS OF BREATH',\n",
       "       'SWALLOWING DIFFICULTY', 'CHEST PAIN', 'LUNG_CANCER'],\n",
       "      dtype='object')"
      ]
     },
     "execution_count": 6,
     "metadata": {},
     "output_type": "execute_result"
    }
   ],
   "source": [
    "data.columns"
   ]
  },
  {
   "cell_type": "code",
   "execution_count": 7,
   "metadata": {
    "execution": {
     "iopub.execute_input": "2022-05-17T10:56:43.124652Z",
     "iopub.status.busy": "2022-05-17T10:56:43.123414Z",
     "iopub.status.idle": "2022-05-17T10:56:43.130739Z",
     "shell.execute_reply": "2022-05-17T10:56:43.129544Z",
     "shell.execute_reply.started": "2022-05-17T10:56:43.124595Z"
    }
   },
   "outputs": [],
   "source": [
    "symptoms = ['YELLOW_FINGERS', 'ANXIETY', 'FATIGUE ', 'WHEEZING', 'COUGHING','SHORTNESS OF BREATH', 'SWALLOWING DIFFICULTY', 'CHEST PAIN']"
   ]
  },
  {
   "cell_type": "code",
   "execution_count": 8,
   "metadata": {
    "execution": {
     "iopub.execute_input": "2022-05-17T10:56:43.143767Z",
     "iopub.status.busy": "2022-05-17T10:56:43.142813Z",
     "iopub.status.idle": "2022-05-17T10:56:43.150270Z",
     "shell.execute_reply": "2022-05-17T10:56:43.149577Z",
     "shell.execute_reply.started": "2022-05-17T10:56:43.143703Z"
    }
   },
   "outputs": [],
   "source": [
    "X = data[symptoms]\n",
    "y = data.LUNG_CANCER"
   ]
  },
  {
   "cell_type": "code",
   "execution_count": 9,
   "metadata": {
    "execution": {
     "iopub.execute_input": "2022-05-17T10:56:43.169957Z",
     "iopub.status.busy": "2022-05-17T10:56:43.168975Z",
     "iopub.status.idle": "2022-05-17T10:56:43.178642Z",
     "shell.execute_reply": "2022-05-17T10:56:43.177856Z",
     "shell.execute_reply.started": "2022-05-17T10:56:43.169907Z"
    }
   },
   "outputs": [],
   "source": [
    "X_train, X_test, y_train, y_test = train_test_split(X,y, stratify = y, random_state = 42)"
   ]
  },
  {
   "cell_type": "markdown",
   "metadata": {},
   "source": [
    "Transforming the label to numerical values with LabelEncoder."
   ]
  },
  {
   "cell_type": "code",
   "execution_count": 10,
   "metadata": {
    "execution": {
     "iopub.execute_input": "2022-05-17T10:56:43.200214Z",
     "iopub.status.busy": "2022-05-17T10:56:43.199586Z",
     "iopub.status.idle": "2022-05-17T10:56:43.206516Z",
     "shell.execute_reply": "2022-05-17T10:56:43.205318Z",
     "shell.execute_reply.started": "2022-05-17T10:56:43.200162Z"
    }
   },
   "outputs": [],
   "source": [
    "le = LabelEncoder()\n",
    "y_train = le.fit_transform(y_train)\n",
    "y_test = le.transform(y_test)"
   ]
  },
  {
   "cell_type": "markdown",
   "metadata": {},
   "source": [
    "Defining the model. The target is a category so this is a classification problem and Random forest classifier would be used."
   ]
  },
  {
   "cell_type": "code",
   "execution_count": 11,
   "metadata": {
    "execution": {
     "iopub.execute_input": "2022-05-17T10:56:43.228913Z",
     "iopub.status.busy": "2022-05-17T10:56:43.228579Z",
     "iopub.status.idle": "2022-05-17T10:56:43.234298Z",
     "shell.execute_reply": "2022-05-17T10:56:43.233240Z",
     "shell.execute_reply.started": "2022-05-17T10:56:43.228877Z"
    }
   },
   "outputs": [],
   "source": [
    "model = RandomForestClassifier(n_estimators = 100, random_state = 42)"
   ]
  },
  {
   "cell_type": "markdown",
   "metadata": {},
   "source": [
    "Fitting the data to the Random Forest model."
   ]
  },
  {
   "cell_type": "code",
   "execution_count": 12,
   "metadata": {
    "execution": {
     "iopub.execute_input": "2022-05-17T10:56:43.255024Z",
     "iopub.status.busy": "2022-05-17T10:56:43.254369Z",
     "iopub.status.idle": "2022-05-17T10:56:43.463711Z",
     "shell.execute_reply": "2022-05-17T10:56:43.462765Z",
     "shell.execute_reply.started": "2022-05-17T10:56:43.254973Z"
    }
   },
   "outputs": [
    {
     "data": {
      "text/plain": [
       "RandomForestClassifier(random_state=42)"
      ]
     },
     "execution_count": 12,
     "metadata": {},
     "output_type": "execute_result"
    }
   ],
   "source": [
    "model.fit(X_train,y_train)"
   ]
  },
  {
   "cell_type": "markdown",
   "metadata": {},
   "source": [
    "Predicting with the Random Forest model."
   ]
  },
  {
   "cell_type": "code",
   "execution_count": 13,
   "metadata": {
    "execution": {
     "iopub.execute_input": "2022-05-17T10:56:43.465512Z",
     "iopub.status.busy": "2022-05-17T10:56:43.465243Z",
     "iopub.status.idle": "2022-05-17T10:56:43.488562Z",
     "shell.execute_reply": "2022-05-17T10:56:43.487526Z",
     "shell.execute_reply.started": "2022-05-17T10:56:43.465481Z"
    }
   },
   "outputs": [],
   "source": [
    "y_pred = model.predict(X_test)"
   ]
  },
  {
   "cell_type": "markdown",
   "metadata": {},
   "source": [
    "Evaluating the random forest model."
   ]
  },
  {
   "cell_type": "code",
   "execution_count": 14,
   "metadata": {
    "execution": {
     "iopub.execute_input": "2022-05-17T10:56:43.490534Z",
     "iopub.status.busy": "2022-05-17T10:56:43.489862Z",
     "iopub.status.idle": "2022-05-17T10:56:43.496570Z",
     "shell.execute_reply": "2022-05-17T10:56:43.495919Z",
     "shell.execute_reply.started": "2022-05-17T10:56:43.490500Z"
    }
   },
   "outputs": [
    {
     "name": "stdout",
     "output_type": "stream",
     "text": [
      "The accuracy score of this Random Forest model is 92.3%\n"
     ]
    }
   ],
   "source": [
    "print('The accuracy score of this Random Forest model is {0:.1f}%'.format(100 *accuracy_score(y_test,y_pred)))"
   ]
  },
  {
   "cell_type": "code",
   "execution_count": 15,
   "metadata": {
    "execution": {
     "iopub.execute_input": "2022-05-17T10:56:43.498640Z",
     "iopub.status.busy": "2022-05-17T10:56:43.498205Z",
     "iopub.status.idle": "2022-05-17T10:56:43.768498Z",
     "shell.execute_reply": "2022-05-17T10:56:43.767676Z",
     "shell.execute_reply.started": "2022-05-17T10:56:43.498586Z"
    }
   },
   "outputs": [
    {
     "name": "stdout",
     "output_type": "stream",
     "text": [
      "The confusion matrix of this Random Forest model\n"
     ]
    },
    {
     "data": {
      "text/plain": [
       "<sklearn.metrics._plot.confusion_matrix.ConfusionMatrixDisplay at 0x9c150088>"
      ]
     },
     "execution_count": 15,
     "metadata": {},
     "output_type": "execute_result"
    },
    {
     "data": {
      "image/png": "[encoded data removed]",
      "text/plain": [
       "<Figure size 432x288 with 2 Axes>"
      ]
     },
     "metadata": {
      "needs_background": "light"
     },
     "output_type": "display_data"
    }
   ],
   "source": [
    "print('The confusion matrix of this Random Forest model')\n",
    "ConfusionMatrixDisplay.from_predictions(y_test, y_pred)"
   ]
  },
  {
   "cell_type": "markdown",
   "metadata": {},
   "source": [
    "The model seems to be good, so the next step is to calculate the features importance."
   ]
  },
  {
   "cell_type": "code",
   "execution_count": 16,
   "metadata": {
    "execution": {
     "iopub.execute_input": "2022-05-17T10:56:43.769813Z",
     "iopub.status.busy": "2022-05-17T10:56:43.769600Z",
     "iopub.status.idle": "2022-05-17T10:56:43.795409Z",
     "shell.execute_reply": "2022-05-17T10:56:43.794837Z",
     "shell.execute_reply.started": "2022-05-17T10:56:43.769785Z"
    }
   },
   "outputs": [
    {
     "data": {
      "text/html": [
       "<div>\n",
       "<style scoped>\n",
       "    .dataframe tbody tr th:only-of-type {\n",
       "        vertical-align: middle;\n",
       "    }\n",
       "\n",
       "    .dataframe tbody tr th {\n",
       "        vertical-align: top;\n",
       "    }\n",
       "\n",
       "    .dataframe thead th {\n",
       "        text-align: right;\n",
       "    }\n",
       "</style>\n",
       "<table border=\"1\" class=\"dataframe\">\n",
       "  <thead>\n",
       "    <tr style=\"text-align: right;\">\n",
       "      <th></th>\n",
       "      <th>Symptoms</th>\n",
       "      <th>Importance</th>\n",
       "    </tr>\n",
       "  </thead>\n",
       "  <tbody>\n",
       "    <tr>\n",
       "      <th>0</th>\n",
       "      <td>YELLOW_FINGERS</td>\n",
       "      <td>0.152723</td>\n",
       "    </tr>\n",
       "    <tr>\n",
       "      <th>4</th>\n",
       "      <td>COUGHING</td>\n",
       "      <td>0.150052</td>\n",
       "    </tr>\n",
       "    <tr>\n",
       "      <th>7</th>\n",
       "      <td>CHEST PAIN</td>\n",
       "      <td>0.133490</td>\n",
       "    </tr>\n",
       "    <tr>\n",
       "      <th>2</th>\n",
       "      <td>FATIGUE</td>\n",
       "      <td>0.124247</td>\n",
       "    </tr>\n",
       "    <tr>\n",
       "      <th>3</th>\n",
       "      <td>WHEEZING</td>\n",
       "      <td>0.122971</td>\n",
       "    </tr>\n",
       "    <tr>\n",
       "      <th>1</th>\n",
       "      <td>ANXIETY</td>\n",
       "      <td>0.120900</td>\n",
       "    </tr>\n",
       "    <tr>\n",
       "      <th>5</th>\n",
       "      <td>SHORTNESS OF BREATH</td>\n",
       "      <td>0.106120</td>\n",
       "    </tr>\n",
       "    <tr>\n",
       "      <th>6</th>\n",
       "      <td>SWALLOWING DIFFICULTY</td>\n",
       "      <td>0.089497</td>\n",
       "    </tr>\n",
       "  </tbody>\n",
       "</table>\n",
       "</div>"
      ],
      "text/plain": [
       "                Symptoms  Importance\n",
       "0         YELLOW_FINGERS    0.152723\n",
       "4               COUGHING    0.150052\n",
       "7             CHEST PAIN    0.133490\n",
       "2               FATIGUE     0.124247\n",
       "3               WHEEZING    0.122971\n",
       "1                ANXIETY    0.120900\n",
       "5    SHORTNESS OF BREATH    0.106120\n",
       "6  SWALLOWING DIFFICULTY    0.089497"
      ]
     },
     "execution_count": 16,
     "metadata": {},
     "output_type": "execute_result"
    }
   ],
   "source": [
    "features_importance = pd.DataFrame({'Symptoms': X.columns, 'Importance':model.feature_importances_}).sort_values('Importance', ascending= False)\n",
    "features_importance"
   ]
  },
  {
   "cell_type": "markdown",
   "metadata": {},
   "source": [
    "A barplot would be made to better understand this."
   ]
  },
  {
   "cell_type": "code",
   "execution_count": 21,
   "metadata": {
    "execution": {
     "iopub.execute_input": "2022-05-17T10:56:43.796660Z",
     "iopub.status.busy": "2022-05-17T10:56:43.796259Z",
     "iopub.status.idle": "2022-05-17T10:56:44.172337Z",
     "shell.execute_reply": "2022-05-17T10:56:44.171424Z",
     "shell.execute_reply.started": "2022-05-17T10:56:43.796627Z"
    }
   },
   "outputs": [
    {
     "data": {
      "text/plain": [
       "(array([0, 1, 2, 3, 4, 5, 6, 7]),\n",
       " [Text(0, 0, 'YELLOW_FINGERS'),\n",
       "  Text(1, 0, 'COUGHING'),\n",
       "  Text(2, 0, 'CHEST PAIN'),\n",
       "  Text(3, 0, 'FATIGUE '),\n",
       "  Text(4, 0, 'WHEEZING'),\n",
       "  Text(5, 0, 'ANXIETY'),\n",
       "  Text(6, 0, 'SHORTNESS OF BREATH'),\n",
       "  Text(7, 0, 'SWALLOWING DIFFICULTY')])"
      ]
     },
     "execution_count": 21,
     "metadata": {},
     "output_type": "execute_result"
    },
    {
     "data": {
      "image/png": "[encoded data removed]",
      "text/plain": [
       "<Figure size 1080x504 with 1 Axes>"
      ]
     },
     "metadata": {
      "needs_background": "light"
     },
     "output_type": "display_data"
    }
   ],
   "source": [
    "sns.barplot(x= features_importance.Symptoms, y = features_importance.Importance)\n",
    "plt.rcParams['figure.figsize'] = (15,7)\n",
    "plt.title('visualizing the symptoms importance', fontsize = 30, fontweight = 'bold')\n",
    "plt.xlabel('Symptoms', fontsize = 45)\n",
    "plt.ylabel('Importance', fontsize = 45 )\n",
    "plt.xticks(rotation = 45, horizontalalignment = 'right', fontweight = 'light', fontsize = 'x-large')"
   ]
  },
  {
   "cell_type": "markdown",
   "metadata": {},
   "source": [
    "This random forest model has have shown that the most important symptoms for lung cancer detection are yellow fingers, coughing and chest pain."
   ]
  }
 ],
 "metadata": {
  "kernelspec": {
   "display_name": "Python 3 (ipykernel)",
   "language": "python",
   "name": "python3"
  },
  "language_info": {
   "codemirror_mode": {
    "name": "ipython",
    "version": 3
   },
   "file_extension": ".py",
   "mimetype": "text/x-python",
   "name": "python",
   "nbconvert_exporter": "python",
   "pygments_lexer": "ipython3",
   "version": "3.9.7"
  }
 },
 "nbformat": 4,
 "nbformat_minor": 4
}
