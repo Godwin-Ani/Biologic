{
 "cells": [
  {
   "cell_type": "code",
   "execution_count": 1,
   "id": "211e70a6",
   "metadata": {
    "_cell_guid": "527318d4-f729-4fad-a782-24040899389d",
    "_uuid": "0b646353-f12d-4dbc-a43d-b514f8227f87",
    "collapsed": false,
    "execution": {
     "iopub.execute_input": "2022-05-18T02:08:29.401070Z",
     "iopub.status.busy": "2022-05-18T02:08:29.400707Z",
     "iopub.status.idle": "2022-05-18T02:08:30.956459Z",
     "shell.execute_reply": "2022-05-18T02:08:30.955604Z"
    },
    "jupyter": {
     "outputs_hidden": false
    },
    "papermill": {
     "duration": 1.572925,
     "end_time": "2022-05-18T02:08:30.958655",
     "exception": false,
     "start_time": "2022-05-18T02:08:29.385730",
     "status": "completed"
    },
    "tags": []
   },
   "outputs": [],
   "source": [
    "#Importing the required libraries\n",
    "import pandas as pd\n",
    "from sklearn.model_selection import train_test_split, GridSearchCV\n",
    "from sklearn.preprocessing import LabelEncoder\n",
    "from sklearn.ensemble import RandomForestClassifier\n",
    "from sklearn.metrics import accuracy_score, f1_score,precision_score, recall_score, confusion_matrix ,ConfusionMatrixDisplay\n",
    "import matplotlib.pyplot as plt\n",
    "import seaborn as sns\n",
    "%matplotlib inline"
   ]
  },
  {
   "cell_type": "code",
   "execution_count": 2,
   "id": "3de4ed88",
   "metadata": {
    "_cell_guid": "527318d4-f729-4fad-a782-24040899389d",
    "_uuid": "0b646353-f12d-4dbc-a43d-b514f8227f87",
    "collapsed": false,
    "execution": {
     "iopub.execute_input": "2022-05-18T02:08:30.985383Z",
     "iopub.status.busy": "2022-05-18T02:08:30.985057Z",
     "iopub.status.idle": "2022-05-18T02:08:31.027474Z",
     "shell.execute_reply": "2022-05-18T02:08:31.024112Z"
    },
    "jupyter": {
     "outputs_hidden": false
    },
    "papermill": {
     "duration": 0.058867,
     "end_time": "2022-05-18T02:08:31.029942",
     "exception": false,
     "start_time": "2022-05-18T02:08:30.971075",
     "status": "completed"
    },
    "tags": []
   },
   "outputs": [
    {
     "data": {
      "text/html": [
       "<div>\n",
       "<style scoped>\n",
       "    .dataframe tbody tr th:only-of-type {\n",
       "        vertical-align: middle;\n",
       "    }\n",
       "\n",
       "    .dataframe tbody tr th {\n",
       "        vertical-align: top;\n",
       "    }\n",
       "\n",
       "    .dataframe thead th {\n",
       "        text-align: right;\n",
       "    }\n",
       "</style>\n",
       "<table border=\"1\" class=\"dataframe\">\n",
       "  <thead>\n",
       "    <tr style=\"text-align: right;\">\n",
       "      <th></th>\n",
       "      <th>GENDER</th>\n",
       "      <th>AGE</th>\n",
       "      <th>SMOKING</th>\n",
       "      <th>YELLOW_FINGERS</th>\n",
       "      <th>ANXIETY</th>\n",
       "      <th>PEER_PRESSURE</th>\n",
       "      <th>CHRONIC DISEASE</th>\n",
       "      <th>FATIGUE</th>\n",
       "      <th>ALLERGY</th>\n",
       "      <th>WHEEZING</th>\n",
       "      <th>ALCOHOL CONSUMING</th>\n",
       "      <th>COUGHING</th>\n",
       "      <th>SHORTNESS OF BREATH</th>\n",
       "      <th>SWALLOWING DIFFICULTY</th>\n",
       "      <th>CHEST PAIN</th>\n",
       "      <th>LUNG_CANCER</th>\n",
       "    </tr>\n",
       "  </thead>\n",
       "  <tbody>\n",
       "    <tr>\n",
       "      <th>0</th>\n",
       "      <td>M</td>\n",
       "      <td>69</td>\n",
       "      <td>1</td>\n",
       "      <td>2</td>\n",
       "      <td>2</td>\n",
       "      <td>1</td>\n",
       "      <td>1</td>\n",
       "      <td>2</td>\n",
       "      <td>1</td>\n",
       "      <td>2</td>\n",
       "      <td>2</td>\n",
       "      <td>2</td>\n",
       "      <td>2</td>\n",
       "      <td>2</td>\n",
       "      <td>2</td>\n",
       "      <td>YES</td>\n",
       "    </tr>\n",
       "    <tr>\n",
       "      <th>1</th>\n",
       "      <td>M</td>\n",
       "      <td>74</td>\n",
       "      <td>2</td>\n",
       "      <td>1</td>\n",
       "      <td>1</td>\n",
       "      <td>1</td>\n",
       "      <td>2</td>\n",
       "      <td>2</td>\n",
       "      <td>2</td>\n",
       "      <td>1</td>\n",
       "      <td>1</td>\n",
       "      <td>1</td>\n",
       "      <td>2</td>\n",
       "      <td>2</td>\n",
       "      <td>2</td>\n",
       "      <td>YES</td>\n",
       "    </tr>\n",
       "    <tr>\n",
       "      <th>2</th>\n",
       "      <td>F</td>\n",
       "      <td>59</td>\n",
       "      <td>1</td>\n",
       "      <td>1</td>\n",
       "      <td>1</td>\n",
       "      <td>2</td>\n",
       "      <td>1</td>\n",
       "      <td>2</td>\n",
       "      <td>1</td>\n",
       "      <td>2</td>\n",
       "      <td>1</td>\n",
       "      <td>2</td>\n",
       "      <td>2</td>\n",
       "      <td>1</td>\n",
       "      <td>2</td>\n",
       "      <td>NO</td>\n",
       "    </tr>\n",
       "    <tr>\n",
       "      <th>3</th>\n",
       "      <td>M</td>\n",
       "      <td>63</td>\n",
       "      <td>2</td>\n",
       "      <td>2</td>\n",
       "      <td>2</td>\n",
       "      <td>1</td>\n",
       "      <td>1</td>\n",
       "      <td>1</td>\n",
       "      <td>1</td>\n",
       "      <td>1</td>\n",
       "      <td>2</td>\n",
       "      <td>1</td>\n",
       "      <td>1</td>\n",
       "      <td>2</td>\n",
       "      <td>2</td>\n",
       "      <td>NO</td>\n",
       "    </tr>\n",
       "    <tr>\n",
       "      <th>4</th>\n",
       "      <td>F</td>\n",
       "      <td>63</td>\n",
       "      <td>1</td>\n",
       "      <td>2</td>\n",
       "      <td>1</td>\n",
       "      <td>1</td>\n",
       "      <td>1</td>\n",
       "      <td>1</td>\n",
       "      <td>1</td>\n",
       "      <td>2</td>\n",
       "      <td>1</td>\n",
       "      <td>2</td>\n",
       "      <td>2</td>\n",
       "      <td>1</td>\n",
       "      <td>1</td>\n",
       "      <td>NO</td>\n",
       "    </tr>\n",
       "  </tbody>\n",
       "</table>\n",
       "</div>"
      ],
      "text/plain": [
       "  GENDER  AGE  SMOKING  YELLOW_FINGERS  ANXIETY  PEER_PRESSURE  \\\n",
       "0      M   69        1               2        2              1   \n",
       "1      M   74        2               1        1              1   \n",
       "2      F   59        1               1        1              2   \n",
       "3      M   63        2               2        2              1   \n",
       "4      F   63        1               2        1              1   \n",
       "\n",
       "   CHRONIC DISEASE  FATIGUE   ALLERGY   WHEEZING  ALCOHOL CONSUMING  COUGHING  \\\n",
       "0                1         2         1         2                  2         2   \n",
       "1                2         2         2         1                  1         1   \n",
       "2                1         2         1         2                  1         2   \n",
       "3                1         1         1         1                  2         1   \n",
       "4                1         1         1         2                  1         2   \n",
       "\n",
       "   SHORTNESS OF BREATH  SWALLOWING DIFFICULTY  CHEST PAIN LUNG_CANCER  \n",
       "0                    2                      2           2         YES  \n",
       "1                    2                      2           2         YES  \n",
       "2                    2                      1           2          NO  \n",
       "3                    1                      2           2          NO  \n",
       "4                    2                      1           1          NO  "
      ]
     },
     "execution_count": 2,
     "metadata": {},
     "output_type": "execute_result"
    }
   ],
   "source": [
    "#loading the data\n",
    "data = pd.read_csv('/kaggle/input/lung-cancer/survey lung cancer.csv')\n",
    "data.head()"
   ]
  },
  {
   "cell_type": "code",
   "execution_count": 3,
   "id": "6c1e24b7",
   "metadata": {
    "_cell_guid": "527318d4-f729-4fad-a782-24040899389d",
    "_uuid": "0b646353-f12d-4dbc-a43d-b514f8227f87",
    "collapsed": false,
    "execution": {
     "iopub.execute_input": "2022-05-18T02:08:31.072528Z",
     "iopub.status.busy": "2022-05-18T02:08:31.072055Z",
     "iopub.status.idle": "2022-05-18T02:08:31.090801Z",
     "shell.execute_reply": "2022-05-18T02:08:31.090103Z"
    },
    "jupyter": {
     "outputs_hidden": false
    },
    "papermill": {
     "duration": 0.042376,
     "end_time": "2022-05-18T02:08:31.092700",
     "exception": false,
     "start_time": "2022-05-18T02:08:31.050324",
     "status": "completed"
    },
    "tags": []
   },
   "outputs": [
    {
     "data": {
      "text/html": [
       "<div>\n",
       "<style scoped>\n",
       "    .dataframe tbody tr th:only-of-type {\n",
       "        vertical-align: middle;\n",
       "    }\n",
       "\n",
       "    .dataframe tbody tr th {\n",
       "        vertical-align: top;\n",
       "    }\n",
       "\n",
       "    .dataframe thead th {\n",
       "        text-align: right;\n",
       "    }\n",
       "</style>\n",
       "<table border=\"1\" class=\"dataframe\">\n",
       "  <thead>\n",
       "    <tr style=\"text-align: right;\">\n",
       "      <th></th>\n",
       "      <th>YELLOW_FINGERS</th>\n",
       "      <th>ANXIETY</th>\n",
       "      <th>FATIGUE</th>\n",
       "      <th>WHEEZING</th>\n",
       "      <th>COUGHING</th>\n",
       "      <th>SHORTNESS OF BREATH</th>\n",
       "      <th>SWALLOWING DIFFICULTY</th>\n",
       "      <th>CHEST PAIN</th>\n",
       "    </tr>\n",
       "  </thead>\n",
       "  <tbody>\n",
       "    <tr>\n",
       "      <th>0</th>\n",
       "      <td>2</td>\n",
       "      <td>2</td>\n",
       "      <td>2</td>\n",
       "      <td>2</td>\n",
       "      <td>2</td>\n",
       "      <td>2</td>\n",
       "      <td>2</td>\n",
       "      <td>2</td>\n",
       "    </tr>\n",
       "    <tr>\n",
       "      <th>1</th>\n",
       "      <td>1</td>\n",
       "      <td>1</td>\n",
       "      <td>2</td>\n",
       "      <td>1</td>\n",
       "      <td>1</td>\n",
       "      <td>2</td>\n",
       "      <td>2</td>\n",
       "      <td>2</td>\n",
       "    </tr>\n",
       "    <tr>\n",
       "      <th>2</th>\n",
       "      <td>1</td>\n",
       "      <td>1</td>\n",
       "      <td>2</td>\n",
       "      <td>2</td>\n",
       "      <td>2</td>\n",
       "      <td>2</td>\n",
       "      <td>1</td>\n",
       "      <td>2</td>\n",
       "    </tr>\n",
       "    <tr>\n",
       "      <th>3</th>\n",
       "      <td>2</td>\n",
       "      <td>2</td>\n",
       "      <td>1</td>\n",
       "      <td>1</td>\n",
       "      <td>1</td>\n",
       "      <td>1</td>\n",
       "      <td>2</td>\n",
       "      <td>2</td>\n",
       "    </tr>\n",
       "    <tr>\n",
       "      <th>4</th>\n",
       "      <td>2</td>\n",
       "      <td>1</td>\n",
       "      <td>1</td>\n",
       "      <td>2</td>\n",
       "      <td>2</td>\n",
       "      <td>2</td>\n",
       "      <td>1</td>\n",
       "      <td>1</td>\n",
       "    </tr>\n",
       "  </tbody>\n",
       "</table>\n",
       "</div>"
      ],
      "text/plain": [
       "   YELLOW_FINGERS  ANXIETY  FATIGUE   WHEEZING  COUGHING  SHORTNESS OF BREATH  \\\n",
       "0               2        2         2         2         2                    2   \n",
       "1               1        1         2         1         1                    2   \n",
       "2               1        1         2         2         2                    2   \n",
       "3               2        2         1         1         1                    1   \n",
       "4               2        1         1         2         2                    2   \n",
       "\n",
       "   SWALLOWING DIFFICULTY  CHEST PAIN  \n",
       "0                      2           2  \n",
       "1                      2           2  \n",
       "2                      1           2  \n",
       "3                      2           2  \n",
       "4                      1           1  "
      ]
     },
     "execution_count": 3,
     "metadata": {},
     "output_type": "execute_result"
    }
   ],
   "source": [
    "#Only the symptoms in the dataset would be used for this model. The data would be splitted first before cleaning and preprocessing to prevent leakage.\n",
    "symptoms = [ 'YELLOW_FINGERS', 'ANXIETY', 'FATIGUE ',  'WHEEZING', 'COUGHING', 'SHORTNESS OF BREATH', 'SWALLOWING DIFFICULTY', 'CHEST PAIN']\n",
    "X = data[symptoms]\n",
    "y = data.LUNG_CANCER\n",
    "X.head()\n",
    " "
   ]
  },
  {
   "cell_type": "code",
   "execution_count": 4,
   "id": "5a34d8a3",
   "metadata": {
    "_cell_guid": "527318d4-f729-4fad-a782-24040899389d",
    "_uuid": "0b646353-f12d-4dbc-a43d-b514f8227f87",
    "collapsed": false,
    "execution": {
     "iopub.execute_input": "2022-05-18T02:08:31.134630Z",
     "iopub.status.busy": "2022-05-18T02:08:31.134256Z",
     "iopub.status.idle": "2022-05-18T02:08:31.145773Z",
     "shell.execute_reply": "2022-05-18T02:08:31.145273Z"
    },
    "jupyter": {
     "outputs_hidden": false
    },
    "papermill": {
     "duration": 0.034585,
     "end_time": "2022-05-18T02:08:31.147450",
     "exception": false,
     "start_time": "2022-05-18T02:08:31.112865",
     "status": "completed"
    },
    "tags": []
   },
   "outputs": [
    {
     "data": {
      "text/plain": [
       "YELLOW_FINGERS           0\n",
       "ANXIETY                  0\n",
       "FATIGUE                  0\n",
       "WHEEZING                 0\n",
       "COUGHING                 0\n",
       "SHORTNESS OF BREATH      0\n",
       "SWALLOWING DIFFICULTY    0\n",
       "CHEST PAIN               0\n",
       "dtype: int64"
      ]
     },
     "execution_count": 4,
     "metadata": {},
     "output_type": "execute_result"
    }
   ],
   "source": [
    "#Splitting the data\n",
    "X_train, X_test, y_train, y_test = train_test_split( X, y, random_state = 42, stratify = y)\n",
    "#checking for missing entry\n",
    "X_train.isnull().sum()\n",
    "#No missing entry detected"
   ]
  },
  {
   "cell_type": "code",
   "execution_count": 5,
   "id": "fd2dccdb",
   "metadata": {
    "_cell_guid": "527318d4-f729-4fad-a782-24040899389d",
    "_uuid": "0b646353-f12d-4dbc-a43d-b514f8227f87",
    "collapsed": false,
    "execution": {
     "iopub.execute_input": "2022-05-18T02:08:31.191371Z",
     "iopub.status.busy": "2022-05-18T02:08:31.190863Z",
     "iopub.status.idle": "2022-05-18T02:08:31.195209Z",
     "shell.execute_reply": "2022-05-18T02:08:31.194521Z"
    },
    "jupyter": {
     "outputs_hidden": false
    },
    "papermill": {
     "duration": 0.027831,
     "end_time": "2022-05-18T02:08:31.196893",
     "exception": false,
     "start_time": "2022-05-18T02:08:31.169062",
     "status": "completed"
    },
    "tags": []
   },
   "outputs": [],
   "source": [
    "#transforming the label to numerical values using LabelEncoder\n",
    "le = LabelEncoder()\n",
    "#fitting the data on only the training set to avoid data leakage\n",
    "y_train= le.fit_transform(y_train)\n",
    "y_test= le.transform(y_test)"
   ]
  },
  {
   "cell_type": "code",
   "execution_count": 6,
   "id": "365cf236",
   "metadata": {
    "_cell_guid": "527318d4-f729-4fad-a782-24040899389d",
    "_uuid": "0b646353-f12d-4dbc-a43d-b514f8227f87",
    "collapsed": false,
    "execution": {
     "iopub.execute_input": "2022-05-18T02:08:31.240445Z",
     "iopub.status.busy": "2022-05-18T02:08:31.240172Z",
     "iopub.status.idle": "2022-05-18T02:08:31.429825Z",
     "shell.execute_reply": "2022-05-18T02:08:31.428516Z"
    },
    "jupyter": {
     "outputs_hidden": false
    },
    "papermill": {
     "duration": 0.214211,
     "end_time": "2022-05-18T02:08:31.431950",
     "exception": false,
     "start_time": "2022-05-18T02:08:31.217739",
     "status": "completed"
    },
    "tags": []
   },
   "outputs": [
    {
     "name": "stdout",
     "output_type": "stream",
     "text": [
      "The accuracy score of this Random Forest Classifier model is: 92.3%\n"
     ]
    }
   ],
   "source": [
    "#The target is a category so this is a classification problem\n",
    "model =  RandomForestClassifier(n_estimators = 100, random_state = 42)\n",
    "#fitting\n",
    "model.fit(X_train, y_train)\n",
    "#predicting\n",
    "y_pred = model.predict(X_test)\n",
    "#evaluating\n",
    "print('The accuracy score of this Random Forest Classifier model is: {0:.1f}%'.format(100*accuracy_score(y_test, y_pred)))"
   ]
  },
  {
   "cell_type": "code",
   "execution_count": 7,
   "id": "2f0bba4b",
   "metadata": {
    "_cell_guid": "527318d4-f729-4fad-a782-24040899389d",
    "_uuid": "0b646353-f12d-4dbc-a43d-b514f8227f87",
    "collapsed": false,
    "execution": {
     "iopub.execute_input": "2022-05-18T02:08:31.479922Z",
     "iopub.status.busy": "2022-05-18T02:08:31.478883Z",
     "iopub.status.idle": "2022-05-18T02:08:31.707966Z",
     "shell.execute_reply": "2022-05-18T02:08:31.706755Z"
    },
    "jupyter": {
     "outputs_hidden": false
    },
    "papermill": {
     "duration": 0.256299,
     "end_time": "2022-05-18T02:08:31.710654",
     "exception": false,
     "start_time": "2022-05-18T02:08:31.454355",
     "status": "completed"
    },
    "tags": []
   },
   "outputs": [
    {
     "data": {
      "image/png": "[encoded data removed]",
      "text/plain": [
       "<Figure size 432x288 with 2 Axes>"
      ]
     },
     "metadata": {
      "needs_background": "light"
     },
     "output_type": "display_data"
    }
   ],
   "source": [
    "ConfusionMatrixDisplay.from_predictions(y_test, y_pred)\n",
    "plt.title('Confusion matrix of the model')\n",
    "plt.show()"
   ]
  },
  {
   "cell_type": "markdown",
   "id": "c29833ab",
   "metadata": {
    "papermill": {
     "duration": 0.023188,
     "end_time": "2022-05-18T02:08:31.756490",
     "exception": false,
     "start_time": "2022-05-18T02:08:31.733302",
     "status": "completed"
    },
    "tags": []
   },
   "source": [
    "The confusion matrix is a table that describes the performance of a classification model. This model was able to correctly predict positive cases 64 times out of 68 times and correctly predict negative cases 8 times out of 10. This shows a high precision of the model."
   ]
  },
  {
   "cell_type": "code",
   "execution_count": 8,
   "id": "7076be47",
   "metadata": {
    "execution": {
     "iopub.execute_input": "2022-05-18T02:08:31.804071Z",
     "iopub.status.busy": "2022-05-18T02:08:31.803742Z",
     "iopub.status.idle": "2022-05-18T02:08:31.817381Z",
     "shell.execute_reply": "2022-05-18T02:08:31.815960Z"
    },
    "papermill": {
     "duration": 0.040096,
     "end_time": "2022-05-18T02:08:31.819198",
     "exception": false,
     "start_time": "2022-05-18T02:08:31.779102",
     "status": "completed"
    },
    "tags": []
   },
   "outputs": [
    {
     "name": "stdout",
     "output_type": "stream",
     "text": [
      "The precision of this model is 97.0%\n",
      "The recall score of this model is 94.1%\n",
      "The harmonic mean of the precision score and recall score is: 0.955223880597015\n"
     ]
    }
   ],
   "source": [
    "print('The precision of this model is {0:.1f}%'.format(100* precision_score(y_test,y_pred)))\n",
    "\n",
    "print ('The recall score of this model is {0:.1f}%'.format(100*recall_score(y_test, y_pred)))\n",
    "\n",
    "print('The harmonic mean of the precision score and recall score is:', f1_score(y_test,y_pred))"
   ]
  },
  {
   "cell_type": "code",
   "execution_count": 9,
   "id": "7042812d",
   "metadata": {
    "_cell_guid": "527318d4-f729-4fad-a782-24040899389d",
    "_uuid": "0b646353-f12d-4dbc-a43d-b514f8227f87",
    "collapsed": false,
    "execution": {
     "iopub.execute_input": "2022-05-18T02:08:31.851339Z",
     "iopub.status.busy": "2022-05-18T02:08:31.851105Z",
     "iopub.status.idle": "2022-05-18T02:08:32.960318Z",
     "shell.execute_reply": "2022-05-18T02:08:32.959734Z"
    },
    "jupyter": {
     "outputs_hidden": false
    },
    "papermill": {
     "duration": 1.127428,
     "end_time": "2022-05-18T02:08:32.962000",
     "exception": false,
     "start_time": "2022-05-18T02:08:31.834572",
     "status": "completed"
    },
    "tags": []
   },
   "outputs": [
    {
     "data": {
      "image/png": "[encoded data removed]",
      "text/plain": [
       "<Figure size 432x288 with 1 Axes>"
      ]
     },
     "metadata": {
      "needs_background": "light"
     },
     "output_type": "display_data"
    },
    {
     "data": {
      "image/png": "[encoded data removed]",
      "text/plain": [
       "<Figure size 432x288 with 1 Axes>"
      ]
     },
     "metadata": {
      "needs_background": "light"
     },
     "output_type": "display_data"
    },
    {
     "data": {
      "image/png": "[encoded data removed]",
      "text/plain": [
       "<Figure size 432x288 with 1 Axes>"
      ]
     },
     "metadata": {
      "needs_background": "light"
     },
     "output_type": "display_data"
    },
    {
     "data": {
      "image/png": "[encoded data removed]",
      "text/plain": [
       "<Figure size 432x288 with 1 Axes>"
      ]
     },
     "metadata": {
      "needs_background": "light"
     },
     "output_type": "display_data"
    },
    {
     "data": {
      "image/png": "[encoded data removed]",
      "text/plain": [
       "<Figure size 432x288 with 1 Axes>"
      ]
     },
     "metadata": {
      "needs_background": "light"
     },
     "output_type": "display_data"
    },
    {
     "data": {
      "image/png": "[encoded data removed]",
      "text/plain": [
       "<Figure size 432x288 with 1 Axes>"
      ]
     },
     "metadata": {
      "needs_background": "light"
     },
     "output_type": "display_data"
    },
    {
     "data": {
      "image/png": "[encoded data removed]",
      "text/plain": [
       "<Figure size 432x288 with 1 Axes>"
      ]
     },
     "metadata": {
      "needs_background": "light"
     },
     "output_type": "display_data"
    },
    {
     "data": {
      "image/png": "[encoded data removed]",
      "text/plain": [
       "<Figure size 432x288 with 1 Axes>"
      ]
     },
     "metadata": {
      "needs_background": "light"
     },
     "output_type": "display_data"
    }
   ],
   "source": [
    "#Visualizing each symptom\n",
    "key = {2: 'yes', 1: 'no'}\n",
    "for sys in symptoms:\n",
    "\tsns.histplot(X[sys].replace(key))\n",
    "\tplt.title(sys)\n",
    "\tplt.show()"
   ]
  },
  {
   "cell_type": "markdown",
   "id": "85da3273",
   "metadata": {
    "papermill": {
     "duration": 0.019505,
     "end_time": "2022-05-18T02:08:33.005941",
     "exception": false,
     "start_time": "2022-05-18T02:08:32.986436",
     "status": "completed"
    },
    "tags": []
   },
   "source": [
    "These plot shows that a person who experiences shortness of breath, who coughs and wheezes often, has yellow fingers and is easily fatigued, has a high probability of being positive for lung cancer."
   ]
  },
  {
   "cell_type": "code",
   "execution_count": 10,
   "id": "8f4f5b89",
   "metadata": {
    "_cell_guid": "527318d4-f729-4fad-a782-24040899389d",
    "_uuid": "0b646353-f12d-4dbc-a43d-b514f8227f87",
    "collapsed": false,
    "execution": {
     "iopub.execute_input": "2022-05-18T02:08:33.047642Z",
     "iopub.status.busy": "2022-05-18T02:08:33.047221Z",
     "iopub.status.idle": "2022-05-18T02:08:33.065647Z",
     "shell.execute_reply": "2022-05-18T02:08:33.065144Z"
    },
    "jupyter": {
     "outputs_hidden": false
    },
    "papermill": {
     "duration": 0.041342,
     "end_time": "2022-05-18T02:08:33.067343",
     "exception": false,
     "start_time": "2022-05-18T02:08:33.026001",
     "status": "completed"
    },
    "tags": []
   },
   "outputs": [
    {
     "name": "stdout",
     "output_type": "stream",
     "text": [
      "                Symptoms  importance\n",
      "0         YELLOW_FINGERS    0.152723\n",
      "4               COUGHING    0.150052\n",
      "7             CHEST PAIN    0.133490\n",
      "2               FATIGUE     0.124247\n",
      "3               WHEEZING    0.122971\n",
      "1                ANXIETY    0.120900\n",
      "5    SHORTNESS OF BREATH    0.106120\n",
      "6  SWALLOWING DIFFICULTY    0.089497\n"
     ]
    }
   ],
   "source": [
    "#features importance\n",
    "Symptoms_importance = pd.DataFrame(  {\"Symptoms\": list(X.columns), \"importance\": model.feature_importances_}).sort_values(\"importance\", ascending=False)\n",
    "# Display\n",
    "print(Symptoms_importance)"
   ]
  },
  {
   "cell_type": "code",
   "execution_count": 11,
   "id": "445bf6b2",
   "metadata": {
    "_cell_guid": "527318d4-f729-4fad-a782-24040899389d",
    "_uuid": "0b646353-f12d-4dbc-a43d-b514f8227f87",
    "collapsed": false,
    "execution": {
     "iopub.execute_input": "2022-05-18T02:08:33.111153Z",
     "iopub.status.busy": "2022-05-18T02:08:33.110752Z",
     "iopub.status.idle": "2022-05-18T02:08:33.323297Z",
     "shell.execute_reply": "2022-05-18T02:08:33.322228Z"
    },
    "jupyter": {
     "outputs_hidden": false
    },
    "papermill": {
     "duration": 0.236496,
     "end_time": "2022-05-18T02:08:33.325201",
     "exception": false,
     "start_time": "2022-05-18T02:08:33.088705",
     "status": "completed"
    },
    "tags": []
   },
   "outputs": [
    {
     "data": {
      "image/png": "[encoded data removed]",
      "text/plain": [
       "<Figure size 432x288 with 1 Axes>"
      ]
     },
     "metadata": {
      "needs_background": "light"
     },
     "output_type": "display_data"
    }
   ],
   "source": [
    "# Creating a bar plot\n",
    "sns.barplot(x=Symptoms_importance.Symptoms, y=Symptoms_importance.importance)\n",
    "plt.xlabel(\"Symptoms \")\n",
    "plt.ylabel(\"Importance score\")\n",
    "plt.title(\"The symptoms and their importance in building this model\")\n",
    "plt.xticks( rotation=45, horizontalalignment=\"right\", fontweight=\"light\", fontsize=\"x-large\")\n",
    "plt.show()"
   ]
  },
  {
   "cell_type": "code",
   "execution_count": null,
   "id": "d4d7a798",
   "metadata": {
    "papermill": {
     "duration": 0.02158,
     "end_time": "2022-05-18T02:08:33.368601",
     "exception": false,
     "start_time": "2022-05-18T02:08:33.347021",
     "status": "completed"
    },
    "tags": []
   },
   "outputs": [],
   "source": []
  }
 ],
 "metadata": {
  "kernelspec": {
   "display_name": "Python 3",
   "language": "python",
   "name": "python3"
  },
  "language_info": {
   "codemirror_mode": {
    "name": "ipython",
    "version": 3
   },
   "file_extension": ".py",
   "mimetype": "text/x-python",
   "name": "python",
   "nbconvert_exporter": "python",
   "pygments_lexer": "ipython3",
   "version": "3.7.12"
  },
  "papermill": {
   "default_parameters": {},
   "duration": 15.763929,
   "end_time": "2022-05-18T02:08:34.312582",
   "environment_variables": {},
   "exception": null,
   "input_path": "__notebook__.ipynb",
   "output_path": "__notebook__.ipynb",
   "parameters": {},
   "start_time": "2022-05-18T02:08:18.548653",
   "version": "2.3.4"
  }
 },
 "nbformat": 4,
 "nbformat_minor": 5
}
